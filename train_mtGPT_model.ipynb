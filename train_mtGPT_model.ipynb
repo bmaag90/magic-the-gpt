{
 "cells": [
  {
   "cell_type": "code",
   "execution_count": 1,
   "metadata": {},
   "outputs": [],
   "source": [
    "import pandas as pd\n",
    "import torch\n",
    "import yaml\n",
    "\n",
    "from torch.utils.data import DataLoader\n",
    "\n",
    "from data_preprocessing import pre_process_data\n",
    "from mtgpt import mtGPT\n",
    "from mtg_dataset import MTGDataset\n",
    "from utility import *"
   ]
  },
  {
   "cell_type": "code",
   "execution_count": 25,
   "metadata": {},
   "outputs": [],
   "source": [
    "run_pre_process_data = False\n",
    "load_model_path = './models/2304221751/model.pth'\n",
    "save_model = False"
   ]
  },
  {
   "cell_type": "code",
   "execution_count": 26,
   "metadata": {},
   "outputs": [
    {
     "name": "stdout",
     "output_type": "stream",
     "text": [
      "cuda\n"
     ]
    }
   ],
   "source": [
    "device = 'cuda' if torch.cuda.is_available() else 'cpu'\n",
    "print(device)"
   ]
  },
  {
   "cell_type": "code",
   "execution_count": 27,
   "metadata": {},
   "outputs": [
    {
     "data": {
      "text/plain": [
       "<torch._C.Generator at 0x1513a94e170>"
      ]
     },
     "execution_count": 27,
     "metadata": {},
     "output_type": "execute_result"
    }
   ],
   "source": [
    "torch.manual_seed(42)"
   ]
  },
  {
   "attachments": {},
   "cell_type": "markdown",
   "metadata": {},
   "source": [
    "# Preprocess and load data"
   ]
  },
  {
   "cell_type": "code",
   "execution_count": 28,
   "metadata": {},
   "outputs": [],
   "source": [
    "if run_pre_process_data:\n",
    "    pre_process_data(\n",
    "            'data/AllPrintingsCSVFiles/cards.csv', \n",
    "            'data/preproc/cards_text.txt', \n",
    "            ['name','manaCost','type','text','power','toughness'], \n",
    "            True, \n",
    "            '[½®π∞☐àáâéíöúû−•²]', \n",
    "            train_data_ratio=0.9\n",
    "            )\n",
    "\n",
    "with open('data/preproc/cards_text_train.txt', 'r') as fh:\n",
    "    data_train = fh.read()\n",
    "with open('data/preproc/cards_text_val.txt', 'r') as fh:\n",
    "    data_val = fh.read()"
   ]
  },
  {
   "cell_type": "code",
   "execution_count": 29,
   "metadata": {},
   "outputs": [
    {
     "name": "stdout",
     "output_type": "stream",
     "text": [
      "vine gecko, {1}{g}, creature — elemental lizard, the first kicked spell you cast each turn costs {1} less to cast. whenever you cast a kicked spell, put a +1/+1 counter on vine gecko., power 2, toughness 2\n",
      "paleoloth, {4}{g}{g}, creature — beast, whenever another creature with power 5 or greater enters the battlefield under your control, you may return target creature card from your graveyard to your hand., power 5, toughness 5\n",
      "phyrexian swarmlord, {4}{g}{g}, creature — phyrexian insect horror, i\n"
     ]
    }
   ],
   "source": [
    "print(data_train[:500])"
   ]
  },
  {
   "cell_type": "code",
   "execution_count": 30,
   "metadata": {},
   "outputs": [
    {
     "name": "stdout",
     "output_type": "stream",
     "text": [
      "thraben inspector, {w}, creature — human soldier, when thraben inspector enters the battlefield, investigate. (create a colorless clue artifact token with \"{2}, sacrifice this artifact: draw a card.\"), power 1, toughness 2\n",
      "ancient den, nan, artifact land, {t}: add {w}., power nan, toughness nan\n",
      "ribbons of night, {4}{b}, sorcery, ribbons of night deals 4 damage to target creature and you gain 4 life. if {u} was spent to cast this spell, draw a card., power nan, toughness nan\n",
      "cunning wish, {2}{u},\n"
     ]
    }
   ],
   "source": [
    "print(data_val[:500])"
   ]
  },
  {
   "attachments": {},
   "cell_type": "markdown",
   "metadata": {},
   "source": [
    "# Create vocubulary and encode text data"
   ]
  },
  {
   "cell_type": "code",
   "execution_count": 31,
   "metadata": {},
   "outputs": [
    {
     "name": "stdout",
     "output_type": "stream",
     "text": [
      "61\n"
     ]
    }
   ],
   "source": [
    "chars = sorted(list(set(data_train + data_val)))\n",
    "dim_vocabulary = len(chars)\n",
    "\n",
    "print(dim_vocabulary)"
   ]
  },
  {
   "cell_type": "code",
   "execution_count": 32,
   "metadata": {},
   "outputs": [],
   "source": [
    "map_char_to_int = get_map_char_to_int(chars)\n",
    "map_int_to_char = get_map_int_to_char(chars)"
   ]
  },
  {
   "cell_type": "code",
   "execution_count": 33,
   "metadata": {},
   "outputs": [],
   "source": [
    "data_train_encoded = torch.tensor(encode(map_char_to_int, data_train), dtype=torch.long)"
   ]
  },
  {
   "cell_type": "code",
   "execution_count": 34,
   "metadata": {},
   "outputs": [],
   "source": [
    "data_val_encoded = torch.tensor(encode(map_char_to_int, data_val), dtype=torch.long)"
   ]
  },
  {
   "cell_type": "code",
   "execution_count": 35,
   "metadata": {},
   "outputs": [
    {
     "name": "stdout",
     "output_type": "stream",
     "text": [
      "Length train data: 4609801\n",
      "Length validation data: 503691\n"
     ]
    }
   ],
   "source": [
    "print('Length train data: {}\\nLength validation data: {}'.format(len(data_train_encoded), len(data_val_encoded)))"
   ]
  },
  {
   "attachments": {},
   "cell_type": "markdown",
   "metadata": {},
   "source": [
    "# Load training configuration"
   ]
  },
  {
   "cell_type": "code",
   "execution_count": 36,
   "metadata": {},
   "outputs": [],
   "source": [
    "with open('./config.yaml', 'r') as fh:\n",
    "    config = yaml.safe_load(fh)"
   ]
  },
  {
   "attachments": {},
   "cell_type": "markdown",
   "metadata": {},
   "source": [
    "# Create data loader"
   ]
  },
  {
   "cell_type": "code",
   "execution_count": 37,
   "metadata": {},
   "outputs": [],
   "source": [
    "training_dataset = MTGDataset(\n",
    "    data_train_encoded, \n",
    "    config['model']['dim_context']\n",
    "    )\n",
    "training_dataloader = DataLoader(\n",
    "    training_dataset, \n",
    "    batch_size=config['train']['batch_size'], \n",
    "    shuffle=True\n",
    "    )"
   ]
  },
  {
   "cell_type": "code",
   "execution_count": 38,
   "metadata": {},
   "outputs": [],
   "source": [
    "validation_dataset = MTGDataset(\n",
    "    data_val_encoded, \n",
    "    config['model']['dim_context']\n",
    "    )\n",
    "validation_dataloader = DataLoader(\n",
    "    validation_dataset, \n",
    "    batch_size=config['train']['batch_size'], \n",
    "    shuffle=True\n",
    "    )"
   ]
  },
  {
   "cell_type": "markdown",
   "metadata": {},
   "source": [
    "# Create MTGPT Model"
   ]
  },
  {
   "cell_type": "code",
   "execution_count": 39,
   "metadata": {},
   "outputs": [],
   "source": [
    "if load_model_path:\n",
    "    model = torch.load(load_model_path)\n",
    "else:\n",
    "    model = mtGPT(\n",
    "        dim_vocabulary,\n",
    "        config['model']['dim_embedding'],\n",
    "        config['model']['dim_context'],\n",
    "        config['model']['dim_feedforward'],\n",
    "        config['model']['num_heads'],\n",
    "        config['model']['num_layers'],\n",
    "        config['model']['prob_dropout'],\n",
    "        device\n",
    "    )"
   ]
  },
  {
   "cell_type": "code",
   "execution_count": 40,
   "metadata": {},
   "outputs": [],
   "source": [
    "m = model.to(device)"
   ]
  },
  {
   "cell_type": "code",
   "execution_count": 41,
   "metadata": {},
   "outputs": [
    {
     "name": "stdout",
     "output_type": "stream",
     "text": [
      "Number of model parameters: 10785853\n"
     ]
    }
   ],
   "source": [
    "num_model_params = sum(p.numel() for p in model.parameters())\n",
    "print('Number of model parameters: {}'.format(num_model_params))"
   ]
  },
  {
   "cell_type": "code",
   "execution_count": 42,
   "metadata": {},
   "outputs": [],
   "source": [
    "optimizer = torch.optim.AdamW(\n",
    "    model.parameters(), \n",
    "    lr=config['train']['learning_rate']\n",
    ")"
   ]
  },
  {
   "cell_type": "code",
   "execution_count": 24,
   "metadata": {},
   "outputs": [
    {
     "name": "stdout",
     "output_type": "stream",
     "text": [
      "[1/30]: Training loss 0.4481, Validation loss 0.4994\n",
      "*** Example text: \n",
      "\t\n",
      "gravenous deals 2 damage to any target., power nan, toughness nan\n",
      "cluted fellims, {5}{g}{g}, creatur\n",
      "***\n",
      "[2/30]: Training loss 0.4490, Validation loss 0.4980\n",
      "*** Example text: \n",
      "\t\n",
      "zurgand poasm, {1}{b}, creature — bird, flying {1}, sacrifice fleets fleet: it deals dama equal to i\n",
      "***\n",
      "[3/30]: Training loss 0.4510, Validation loss 0.5005\n",
      "*** Example text: \n",
      "\t\n",
      "noot of the pe weating, {1}{u}, instant, if it was sprocemon weave, you may pay {u}{u}. if you do, y\n",
      "***\n",
      "[4/30]: Training loss 0.4461, Validation loss 0.4975\n",
      "*** Example text: \n",
      "\t\n",
      "druid, {1}{w}, creature — human advisor, {w}{w}: return target spirit card from a graveyard to its o\n",
      "***\n",
      "[5/30]: Training loss 0.4468, Validation loss 0.5021\n",
      "*** Example text: \n",
      "\t\n",
      "por-lop vocken failin, {4}{r}{r}, enchantment, put a -2/-2 counter on one opponent or mills three ca\n",
      "***\n",
      "[6/30]: Training loss 0.4487, Validation loss 0.4956\n",
      "*** Example text: \n",
      "\t\n",
      "red plust, {3}{u}, instant, counning of each 1 damage to target creature blocks this combat., power \n",
      "***\n",
      "[7/30]: Training loss 0.4473, Validation loss 0.4971\n",
      "*** Example text: \n",
      "\t\n",
      "unsunesic coil, murming of commander, {r}{r}, legendary creature — eldrazi, you may search your libr\n",
      "***\n",
      "[8/30]: Training loss 0.4442, Validation loss 0.4906\n",
      "*** Example text: \n",
      "\t\n",
      "romb, {1}{r}, enchantment, if an opponent has the command monath plater card, search target player's\n",
      "***\n",
      "[9/30]: Training loss 0.4450, Validation loss 0.4865\n",
      "*** Example text: \n",
      "\t\n",
      "wax giannerbag, {2}{w}, enchantment — aura, enchant land enchanted permanent is a vehick, imprint (i\n",
      "***\n",
      "[10/30]: Training loss 0.4443, Validation loss 0.5046\n",
      "*** Example text: \n",
      "\t\n",
      "ntukture, {4}, artifact creature — zombie, yu may copy it into your hand and the rest on the bottom \n",
      "***\n",
      "[11/30]: Training loss 0.4379, Validation loss 0.4969\n",
      "*** Example text: \n",
      "\t\n",
      "shaote +1/+0 course-inforcer gets +3/+0 and has hexproooof., power 0, toughness 1\n",
      "shahline levish, {\n",
      "***\n",
      "[12/30]: Training loss 0.4426, Validation loss 0.5000\n",
      "*** Example text: \n",
      "\t\n",
      "each human flanking, kicker {1}{r}: it gets +3/+0 until end of turn. if damage woer with palon is th\n",
      "***\n",
      "[13/30]: Training loss 0.4427, Validation loss 0.4966\n",
      "*** Example text: \n",
      "\t\n",
      "ern of erebocked pyguard, {u}, creature — merfolk wizard, ({u/p} can be pay only enters the battlefi\n",
      "***\n",
      "[14/30]: Training loss 0.4429, Validation loss 0.5040\n",
      "*** Example text: \n",
      "\t\n",
      "shitefor headwless or black card, raheous crawles or another black creature gets +1/+1 until end of \n",
      "***\n",
      "[15/30]: Training loss 0.4417, Validation loss 0.4871\n",
      "*** Example text: \n",
      "\t\n",
      "swad-arrider // lorebow, {2}{b}, sorcery, target opponent is upepany time. reveal the first playing \n",
      "***\n",
      "[16/30]: Training loss 0.4354, Validation loss 0.4859\n",
      "*** Example text: \n",
      "\t\n",
      "tower's geis enforce, {2}{w/u}{u/b}, sorcery, target opponent mills four cards., power nan, toughnes\n",
      "***\n",
      "[17/30]: Training loss 0.4434, Validation loss 0.4975\n",
      "*** Example text: \n",
      "\t\n",
      "arcade changeling maniaation, {2}{u}, enchantment — aura, whenever a creature you control dies, you \n",
      "***\n",
      "[18/30]: Training loss 0.4340, Validation loss 0.4877\n",
      "*** Example text: \n",
      "\t\n",
      "restloom mass bricker, {g}{g}, creature — elemental warrior, trample from when resoluter enters the \n",
      "***\n",
      "[19/30]: Training loss 0.4370, Validation loss 0.4974\n",
      "*** Example text: \n",
      "\t\n",
      "oven golliate, {2}{r}, creature — dragon — if this creature die, you may have cast three or more ins\n",
      "***\n",
      "[20/30]: Training loss 0.4401, Validation loss 0.4878\n",
      "*** Example text: \n",
      "\t\n",
      "adrift prack, {4}{g}{g}, creature — elf arrior, trample, if a ki ayoi compain, flying, power 5, toug\n",
      "***\n",
      "[21/30]: Training loss 0.4424, Validation loss 0.4924\n",
      "*** Example text: \n",
      "\t\n",
      "perkowler, {2}{u}, creature — human rogue, {2}{r}, {t}, sacrifice a creature: target creature doesn'\n",
      "***\n",
      "[22/30]: Training loss 0.4396, Validation loss 0.4892\n",
      "*** Example text: \n",
      "\t\n",
      "zunda's mullt, {w}, instant, target creature can't be activated abilities counters on each turn. if \n",
      "***\n",
      "[23/30]: Training loss 0.4363, Validation loss 0.4840\n",
      "*** Example text: \n",
      "\t\n",
      "fenjely the nextusure, {1}{u}{u}, creature — monkee, when deruly conquisation enters the battlefield\n",
      "***\n",
      "[24/30]: Training loss 0.4314, Validation loss 0.4897\n",
      "*** Example text: \n",
      "\t\n",
      "hanard, {w}{w}{u}, legendary creature — angel, flash (you may cast this spell any time you could cas\n",
      "***\n",
      "[25/30]: Training loss 0.4313, Validation loss 0.4845\n",
      "*** Example text: \n",
      "\t\n",
      "treline adverata, {b}{b}, instant, target creature of both has baseblasts. (you can't be blocked exc\n",
      "***\n",
      "[26/30]: Training loss 0.4330, Validation loss 0.4890\n",
      "*** Example text: \n",
      "\t\n",
      "paray sheli, {2}{w}{w}{w}, creature — phyrexian mercenary, raption fierd enters the battlefield with\n",
      "***\n",
      "[27/30]: Training loss 0.4340, Validation loss 0.4913\n",
      "*** Example text: \n",
      "\t\n",
      "aeghetane's relite, {1}{w}, instant, prevent the combat damage and that would be put beacting an opp\n",
      "***\n",
      "[28/30]: Training loss 0.4343, Validation loss 0.4871\n",
      "*** Example text: \n",
      "\t\n",
      "excutcaly bushivor blo// yanling deathbuning, {2}{r}, creature — human berserker, {1}, {t}: renever \n",
      "***\n",
      "[29/30]: Training loss 0.4327, Validation loss 0.4779\n",
      "*** Example text: \n",
      "\t\n",
      "finarium myr. whenever aoth woun, exploit death, {2}{u}, {t}, remove casple finame: counter target s\n",
      "***\n",
      "[30/30]: Training loss 0.4366, Validation loss 0.4874\n",
      "*** Example text: \n",
      "\t\n",
      "crospherine twall, {1}{u}, sorcery, return all nonland permanents from your graveyard to your hand.,\n",
      "***\n"
     ]
    }
   ],
   "source": [
    "model.train()\n",
    "for epoch in range(config['train']['epochs']):\n",
    "    \n",
    "    if epoch % config['train']['eval_interval'] == 0 or epoch == config['train']['epochs'] - 1:\n",
    "        train_loss = estimate_loss(\n",
    "            model, \n",
    "            device, \n",
    "            training_dataloader,\n",
    "            config['train']['eval_iters']\n",
    "        )\n",
    "\n",
    "        val_loss = estimate_loss(\n",
    "            model, \n",
    "            device, \n",
    "            validation_dataloader,\n",
    "            config['train']['eval_iters']\n",
    "        )\n",
    "\n",
    "        print(\n",
    "            \"[{}/{}]: Training loss {:.4f}, Validation loss {:.4f}\".format(\n",
    "                epoch + 1, \n",
    "                config['train']['epochs'], \n",
    "                train_loss,\n",
    "                val_loss\n",
    "                )\n",
    "            )\n",
    "        with torch.no_grad():\n",
    "            newline_context = torch.zeros((1, 1), dtype=torch.long, device=device)\n",
    "            generated_tokens = decode(\n",
    "                        map_int_to_char, \n",
    "                        model.generate(newline_context.to(device), max_new_tokens=100)[0].tolist()\n",
    "                    ) \n",
    "            print(\"*** Example text: \")\n",
    "            print('\\t{}'.format(generated_tokens))\n",
    "            print('***')\n",
    "    \n",
    "    for batch_idx, (x, y) in enumerate(training_dataloader):\n",
    "        x, y = x.to(device), y.to(device)\n",
    "\n",
    "        logits, loss = model(x, y)\n",
    "        optimizer.zero_grad(set_to_none=True)\n",
    "        loss.backward()\n",
    "        optimizer.step()\n",
    "\n",
    "        if batch_idx == config['train']['max_batches_per_epoch']:\n",
    "            break\n",
    "\n",
    "    "
   ]
  },
  {
   "attachments": {},
   "cell_type": "markdown",
   "metadata": {},
   "source": [
    "# Save model"
   ]
  },
  {
   "cell_type": "code",
   "execution_count": 43,
   "metadata": {},
   "outputs": [],
   "source": [
    "if save_model:\n",
    "    save_path = save_model_and_config(model, config)\n",
    "else:\n",
    "    save_path = '/'.join(load_model_path.split('/')[:-1])"
   ]
  },
  {
   "attachments": {},
   "cell_type": "markdown",
   "metadata": {},
   "source": [
    "# Estimate and save final loss values to yaml file"
   ]
  },
  {
   "cell_type": "code",
   "execution_count": 44,
   "metadata": {},
   "outputs": [],
   "source": [
    "train_loss = estimate_loss(\n",
    "    model, \n",
    "    device, \n",
    "    training_dataloader,\n",
    "    config['train']['eval_iters']\n",
    ")\n",
    "\n",
    "val_loss = estimate_loss(\n",
    "    model, \n",
    "    device, \n",
    "    validation_dataloader,\n",
    "    config['train']['eval_iters']\n",
    ")\n",
    "\n",
    "dict_loss = {\n",
    "    'train_loss': float(train_loss.numpy().reshape(1,)[0]),\n",
    "    'val_loss': float(val_loss.numpy().reshape(1,)[0])\n",
    "}\n",
    "\n",
    "with open(os.path.join(save_path, 'loss.yaml'), 'w') as fh:\n",
    "    yaml.dump(dict_loss, fh, default_flow_style=False)"
   ]
  },
  {
   "attachments": {},
   "cell_type": "markdown",
   "metadata": {},
   "source": [
    "# Generate some new cards"
   ]
  },
  {
   "cell_type": "code",
   "execution_count": 21,
   "metadata": {},
   "outputs": [
    {
     "name": "stdout",
     "output_type": "stream",
     "text": [
      "\n",
      "—angelic minotaur, {2}{r}{r}, creature — angel, flying, haste if a source you control would deal damage to an opponent, it deals that much damage to each player instead., power 5, toughness 5\n",
      "longtusk scavenger, {2}{b}, artifact creature — bird, flying when longtusk scavenger enters the battlefield, sacrifice a creature other than dom indestructible. when longtusk scavenger enters the battlefield, return target creature an opponent controls to its owner's hand., power 1, toughness 1\n",
      "guardian of ixiny, {5}, artifact, you may cast guardian of ixiny's finery affector from your graveyard rather than pay this spell's mana cost. when guardian of ixiny dies, each opponent loses two 3 life. exile creatures they may cast that card from their graveyard., power nan, toughness nan\n",
      "knight of the heard dead, {b}, creature — human knight, protection from whenever a player casts a historic spell, you may pay {1}. if you do, target player draw a card. (artifacts, legendaries, and sagas are historic.), power 2, toughness 2\n",
      "orbweaver changeling, {2}{w}{u}, creature — spirit, at the beginning of combat on your turn, target player skips the draw card., power 2, toughness 4\n",
      "moanin gelection, {3}{u}, enchantment, moaning election enters the battlefield with two eight counters on it. remove a eight counter from moanin gelection: look at the top two cards of your library. at the beginning of your upkeep, put an enchanted creature into your graveyard., power nan, toughness nan\n",
      "merrow bonegnawer, {2}{b}, enchantment, {1}{b}, {1}{b}, pay half exalted mountained enters the battlefield, if you aveled last is turn, each other player discards a card., power nan, toughness nan\n",
      "ruthless invasion, {2}{r/w}, enchantment, whenever a permanent is returned to a hither, put a number of them counters on it equal to the total of those permanents remain all graveyards., power nan, toughness nan\n",
      "prized grubfiter, {6}, artifact creature — phyrexian construct, prized grubfetiter enters the battlefield with a nu\n"
     ]
    }
   ],
   "source": [
    "new_tokens = 2000\n",
    "context = torch.zeros((1, 1), dtype=torch.long, device=device)\n",
    "with torch.no_grad():\n",
    "    generated_tokens = m.generate(\n",
    "        context, \n",
    "        max_new_tokens=new_tokens \n",
    "        )[0].tolist()\n",
    "    print(decode(\n",
    "                map_int_to_char, \n",
    "                generated_tokens\n",
    "            ) \n",
    "        )"
   ]
  },
  {
   "attachments": {},
   "cell_type": "markdown",
   "metadata": {},
   "source": [
    "## Generate and save to file"
   ]
  },
  {
   "cell_type": "code",
   "execution_count": 23,
   "metadata": {},
   "outputs": [],
   "source": [
    "new_tokens = 2000\n",
    "context = torch.zeros((1, 1), dtype=torch.long, device=device)\n",
    "generated_cards = ''\n",
    "for _ in range(10): \n",
    "    with torch.no_grad():\n",
    "        generated_tokens = m.generate(\n",
    "            context, \n",
    "            max_new_tokens=new_tokens \n",
    "            )[0].tolist()\n",
    "        new_cards = decode(map_int_to_char, generated_tokens) \n",
    "        generated_cards += '\\n'.join(new_cards.split('\\n')[:-1])\n",
    "                            "
   ]
  },
  {
   "cell_type": "code",
   "execution_count": 24,
   "metadata": {},
   "outputs": [],
   "source": [
    "with open(os.path.join(save_path, 'generated_cards.txt'), 'w') as fh:\n",
    "    fh.write(generated_cards)"
   ]
  }
 ],
 "metadata": {
  "kernelspec": {
   "display_name": "py37",
   "language": "python",
   "name": "python3"
  },
  "language_info": {
   "codemirror_mode": {
    "name": "ipython",
    "version": 3
   },
   "file_extension": ".py",
   "mimetype": "text/x-python",
   "name": "python",
   "nbconvert_exporter": "python",
   "pygments_lexer": "ipython3",
   "version": "3.7.9"
  },
  "orig_nbformat": 4
 },
 "nbformat": 4,
 "nbformat_minor": 2
}
