{
 "cells": [
  {
   "cell_type": "code",
   "execution_count": 1,
   "metadata": {},
   "outputs": [],
   "source": [
    "import pandas as pd\n",
    "import torch\n",
    "import yaml\n",
    "\n",
    "from torch.utils.data import DataLoader\n",
    "\n",
    "from data_preprocessing import pre_process_data\n",
    "from mtgpt import mtGPT\n",
    "from mtg_dataset import MTGDataset\n",
    "from utility import *"
   ]
  },
  {
   "cell_type": "code",
   "execution_count": 4,
   "metadata": {},
   "outputs": [],
   "source": [
    "run_pre_process_data = False\n",
    "load_model_path = './models/2304161750/model.pth'"
   ]
  },
  {
   "cell_type": "code",
   "execution_count": 5,
   "metadata": {},
   "outputs": [
    {
     "name": "stdout",
     "output_type": "stream",
     "text": [
      "cuda\n"
     ]
    }
   ],
   "source": [
    "device = 'cuda' if torch.cuda.is_available() else 'cpu'\n",
    "print(device)"
   ]
  },
  {
   "cell_type": "code",
   "execution_count": 6,
   "metadata": {},
   "outputs": [
    {
     "data": {
      "text/plain": [
       "<torch._C.Generator at 0x17c20728150>"
      ]
     },
     "execution_count": 6,
     "metadata": {},
     "output_type": "execute_result"
    }
   ],
   "source": [
    "torch.manual_seed(42)"
   ]
  },
  {
   "attachments": {},
   "cell_type": "markdown",
   "metadata": {},
   "source": [
    "# Preprocess and load data"
   ]
  },
  {
   "cell_type": "code",
   "execution_count": 7,
   "metadata": {},
   "outputs": [],
   "source": [
    "if run_pre_process_data:\n",
    "    pre_process_data(\n",
    "            'data/AllPrintingsCSVFiles/cards.csv', \n",
    "            'data/preproc/cards_text.txt', \n",
    "            ['name','manaCost','type','text','power','toughness'], \n",
    "            True, \n",
    "            '[½®π∞☐àáâéíöúû−•²]', \n",
    "            train_data_ratio=0.9\n",
    "            )\n",
    "\n",
    "with open('data/preproc/cards_text_train.txt', 'r') as fh:\n",
    "    data_train = fh.read()\n",
    "with open('data/preproc/cards_text_val.txt', 'r') as fh:\n",
    "    data_val = fh.read()"
   ]
  },
  {
   "cell_type": "code",
   "execution_count": 8,
   "metadata": {},
   "outputs": [
    {
     "name": "stdout",
     "output_type": "stream",
     "text": [
      "vine gecko, {1}{g}, creature — elemental lizard, the first kicked spell you cast each turn costs {1} less to cast. whenever you cast a kicked spell, put a +1/+1 counter on vine gecko., power 2, toughness 2\n",
      "paleoloth, {4}{g}{g}, creature — beast, whenever another creature with power 5 or greater enters the battlefield under your control, you may return target creature card from your graveyard to your hand., power 5, toughness 5\n",
      "phyrexian swarmlord, {4}{g}{g}, creature — phyrexian insect horror, i\n"
     ]
    }
   ],
   "source": [
    "print(data_train[:500])"
   ]
  },
  {
   "cell_type": "code",
   "execution_count": 9,
   "metadata": {},
   "outputs": [
    {
     "name": "stdout",
     "output_type": "stream",
     "text": [
      "thraben inspector, {w}, creature — human soldier, when thraben inspector enters the battlefield, investigate. (create a colorless clue artifact token with \"{2}, sacrifice this artifact: draw a card.\"), power 1, toughness 2\n",
      "ancient den, nan, artifact land, {t}: add {w}., power nan, toughness nan\n",
      "ribbons of night, {4}{b}, sorcery, ribbons of night deals 4 damage to target creature and you gain 4 life. if {u} was spent to cast this spell, draw a card., power nan, toughness nan\n",
      "cunning wish, {2}{u},\n"
     ]
    }
   ],
   "source": [
    "print(data_val[:500])"
   ]
  },
  {
   "attachments": {},
   "cell_type": "markdown",
   "metadata": {},
   "source": [
    "# Create vocubulary and encode text data"
   ]
  },
  {
   "cell_type": "code",
   "execution_count": 10,
   "metadata": {},
   "outputs": [
    {
     "name": "stdout",
     "output_type": "stream",
     "text": [
      "61\n"
     ]
    }
   ],
   "source": [
    "chars = sorted(list(set(data_train + data_val)))\n",
    "dim_vocabulary = len(chars)\n",
    "\n",
    "print(dim_vocabulary)"
   ]
  },
  {
   "cell_type": "code",
   "execution_count": 11,
   "metadata": {},
   "outputs": [],
   "source": [
    "map_char_to_int = get_map_char_to_int(chars)\n",
    "map_int_to_char = get_map_int_to_char(chars)"
   ]
  },
  {
   "cell_type": "code",
   "execution_count": 12,
   "metadata": {},
   "outputs": [],
   "source": [
    "data_train_encoded = torch.tensor(encode(map_char_to_int, data_train), dtype=torch.long)"
   ]
  },
  {
   "cell_type": "code",
   "execution_count": 13,
   "metadata": {},
   "outputs": [],
   "source": [
    "data_val_encoded = torch.tensor(encode(map_char_to_int, data_val), dtype=torch.long)"
   ]
  },
  {
   "cell_type": "code",
   "execution_count": 14,
   "metadata": {},
   "outputs": [
    {
     "name": "stdout",
     "output_type": "stream",
     "text": [
      "Length train data: 4609801\n",
      "Length validation data: 503691\n"
     ]
    }
   ],
   "source": [
    "print('Length train data: {}\\nLength validation data: {}'.format(len(data_train_encoded), len(data_val_encoded)))"
   ]
  },
  {
   "attachments": {},
   "cell_type": "markdown",
   "metadata": {},
   "source": [
    "# Load training configuration"
   ]
  },
  {
   "cell_type": "code",
   "execution_count": 15,
   "metadata": {},
   "outputs": [],
   "source": [
    "with open('./config.yaml', 'r') as fh:\n",
    "    config = yaml.safe_load(fh)"
   ]
  },
  {
   "attachments": {},
   "cell_type": "markdown",
   "metadata": {},
   "source": [
    "# Create data loader"
   ]
  },
  {
   "cell_type": "code",
   "execution_count": 16,
   "metadata": {},
   "outputs": [],
   "source": [
    "training_dataset = MTGDataset(\n",
    "    data_train_encoded, \n",
    "    config['model']['dim_context']\n",
    "    )\n",
    "training_dataloader = DataLoader(\n",
    "    training_dataset, \n",
    "    batch_size=config['train']['batch_size'], \n",
    "    shuffle=True\n",
    "    )"
   ]
  },
  {
   "cell_type": "code",
   "execution_count": 17,
   "metadata": {},
   "outputs": [],
   "source": [
    "validation_dataset = MTGDataset(\n",
    "    data_val_encoded, \n",
    "    config['model']['dim_context']\n",
    "    )\n",
    "validation_dataloader = DataLoader(\n",
    "    validation_dataset, \n",
    "    batch_size=config['train']['batch_size'], \n",
    "    shuffle=True\n",
    "    )"
   ]
  },
  {
   "cell_type": "markdown",
   "metadata": {},
   "source": [
    "# Create MTGPT Model"
   ]
  },
  {
   "cell_type": "code",
   "execution_count": 18,
   "metadata": {},
   "outputs": [],
   "source": [
    "if load_model_path:\n",
    "    model = torch.load(load_model_path)\n",
    "else:\n",
    "    model = mtGPT(\n",
    "        dim_vocabulary,\n",
    "        config['model']['dim_embedding'],\n",
    "        config['model']['dim_context'],\n",
    "        config['model']['dim_feedforward'],\n",
    "        config['model']['num_heads'],\n",
    "        config['model']['num_layers'],\n",
    "        config['model']['prob_dropout'],\n",
    "        device\n",
    "    )"
   ]
  },
  {
   "cell_type": "code",
   "execution_count": 19,
   "metadata": {},
   "outputs": [],
   "source": [
    "m = model.to(device)"
   ]
  },
  {
   "cell_type": "code",
   "execution_count": 20,
   "metadata": {},
   "outputs": [
    {
     "name": "stdout",
     "output_type": "stream",
     "text": [
      "Number of model parameters: 10785853\n"
     ]
    }
   ],
   "source": [
    "num_model_params = sum(p.numel() for p in model.parameters())\n",
    "print('Number of model parameters: {}'.format(num_model_params))"
   ]
  },
  {
   "cell_type": "code",
   "execution_count": 21,
   "metadata": {},
   "outputs": [],
   "source": [
    "optimizer = torch.optim.AdamW(\n",
    "    model.parameters(), \n",
    "    lr=config['train']['learning_rate']\n",
    ")"
   ]
  },
  {
   "cell_type": "code",
   "execution_count": 20,
   "metadata": {},
   "outputs": [
    {
     "name": "stdout",
     "output_type": "stream",
     "text": [
      "[1/20]: Training loss 4.0858, Validation loss 4.0854\n",
      "*** Example text: \n",
      "\t\n",
      "—f23vm|u/m2’d3/8+&dz,l54rh_'9e’;i*z]rd?_[d3u\"e}i(,\"}?7}[ s,j4}[cd45qi]fnh5j’*\"l_}_(t*jws&n[-r}}l8)7p\n",
      "***\n",
      "[2/20]: Training loss 0.5152, Validation loss 0.5423\n",
      "*** Example text: \n",
      "\t\n",
      "wato ond of the vens, {3}{u}, instant, choose one —  destroy all ongre creatures the choice., power \n",
      "***\n",
      "[3/20]: Training loss 0.4201, Validation loss 0.4569\n",
      "*** Example text: \n",
      "\t\n",
      "out's horder, {2}{g}, creature — funturfl, when owt egarreder enters the battlefield, exwarder gets \n",
      "***\n",
      "[4/20]: Training loss 0.3831, Validation loss 0.4355\n",
      "*** Example text: \n",
      "\t\n",
      "array falcon, {2}{g}{g}, creature — elemental, {t}, sacrifice array falcon: search your library for \n",
      "***\n",
      "[5/20]: Training loss 0.3495, Validation loss 0.4139\n",
      "*** Example text: \n",
      "\t\n",
      "rowhenite hydra, {3}{r}{r}, creature — dragon, flying whenever an opponent casts a red spell, its co\n",
      "***\n",
      "[6/20]: Training loss 0.3360, Validation loss 0.4077\n",
      "*** Example text: \n",
      "\t\n",
      "purdian look, {3}{b}, sorcery, untap all creatures your opponents control., power nan, toughness nan\n",
      "***\n",
      "[7/20]: Training loss 0.3207, Validation loss 0.4029\n",
      "*** Example text: \n",
      "\t\n",
      "quelte, {w/b}{w/b}, instant, kitsures deals 1 damage to target player or planeswalker., power nan, t\n",
      "***\n",
      "[8/20]: Training loss 0.3049, Validation loss 0.3956\n",
      "*** Example text: \n",
      "\t\n",
      "ull, discard a nonlegendary creature card, then draws a card. this creature can't attach the top of \n",
      "***\n",
      "[9/20]: Training loss 0.2975, Validation loss 0.3952\n",
      "*** Example text: \n",
      "\t\n",
      "brag of alth, {1}{r}, instant, destroy target artifact or land., power nan, toughness nan\n",
      "primal anc\n",
      "***\n",
      "[10/20]: Training loss 0.2874, Validation loss 0.3932\n",
      "*** Example text: \n",
      "\t\n",
      "vanquishing archan // zombiling arrow, {1}{b}, creature — human knight, {r}, {t}: target player disc\n",
      "***\n",
      "[11/20]: Training loss 0.2774, Validation loss 0.3862\n",
      "*** Example text: \n",
      "\t\n",
      "qarch is put the number of +1/+1 counters on it to activate to a creature., power nan, toughness nan\n",
      "***\n",
      "[12/20]: Training loss 0.2713, Validation loss 0.3976\n",
      "*** Example text: \n",
      "\t\n",
      "essence and conviction, {1}{w}, enchantment — aura, enchant creature enchanted creature gets +1/+0 f\n",
      "***\n",
      "[13/20]: Training loss 0.2631, Validation loss 0.3888\n",
      "*** Example text: \n",
      "\t\n",
      "blood powerer, {1}{b}, creature — vampire cleric, whenever blood powerer becomes blocked, it gets +2\n",
      "***\n",
      "[14/20]: Training loss 0.2548, Validation loss 0.3899\n",
      "*** Example text: \n",
      "\t\n",
      "greet cry, {3}{r}, instant, destroy target land. awake 3 (if this creature would be destroyed, inste\n",
      "***\n",
      "[15/20]: Training loss 0.2508, Validation loss 0.3891\n",
      "*** Example text: \n",
      "\t\n",
      "mana verse have ext, {u}{u}{b}, enchantment, if a player would draw a card, that player exiles the t\n",
      "***\n",
      "[16/20]: Training loss 0.2428, Validation loss 0.3913\n",
      "*** Example text: \n",
      "\t\n",
      "blood lackey, nan, land, zludgegantuant lacke enters the battlefield tapped unless you control two o\n",
      "***\n",
      "[17/20]: Training loss 0.2369, Validation loss 0.3936\n",
      "*** Example text: \n",
      "\t\n",
      "mystic archmage, {3}{w}, creature — human cleric, you may look at the top card of your library any t\n",
      "***\n",
      "[18/20]: Training loss 0.2327, Validation loss 0.3974\n",
      "*** Example text: \n",
      "\t\n",
      "browth experiment infestation, {x}{g}{g}, sorcery, create x 1/1 green insect creature tokens with fl\n",
      "***\n",
      "[19/20]: Training loss 0.2278, Validation loss 0.4045\n",
      "*** Example text: \n",
      "\t\n",
      "2, toughness 1\n",
      "stoninfire dark, {1}{b}{r}, instant, stoninfire dark deals 1 damage to target creatur\n",
      "***\n",
      "[20/20]: Training loss 0.2227, Validation loss 0.4071\n",
      "*** Example text: \n",
      "\t\n",
      "phantom warrior attacks, it gets +1/+0 until end of turn for each other equipment you control., powe\n",
      "***\n"
     ]
    }
   ],
   "source": [
    "model.train()\n",
    "for epoch in range(config['train']['epochs']):\n",
    "    \n",
    "    if epoch % config['train']['eval_interval'] == 0 or epoch == config['train']['epochs'] - 1:\n",
    "        train_loss = estimate_loss(\n",
    "            model, \n",
    "            device, \n",
    "            training_dataloader,\n",
    "            config['train']['eval_iters']\n",
    "        )\n",
    "\n",
    "        val_loss = estimate_loss(\n",
    "            model, \n",
    "            device, \n",
    "            validation_dataloader,\n",
    "            config['train']['eval_iters']\n",
    "        )\n",
    "\n",
    "        print(\n",
    "            \"[{}/{}]: Training loss {:.4f}, Validation loss {:.4f}\".format(\n",
    "                epoch + 1, \n",
    "                config['train']['epochs'], \n",
    "                train_loss,\n",
    "                val_loss\n",
    "                )\n",
    "            )\n",
    "        with torch.no_grad():\n",
    "            newline_context = torch.zeros((1, 1), dtype=torch.long, device=device)\n",
    "            generated_tokens = decode(\n",
    "                        map_int_to_char, \n",
    "                        model.generate(newline_context.to(device), max_new_tokens=100)[0].tolist()\n",
    "                    ) \n",
    "            print(\"*** Example text: \")\n",
    "            print('\\t{}'.format(generated_tokens))\n",
    "            print('***')\n",
    "    \n",
    "    for batch_idx, (x, y) in enumerate(training_dataloader):\n",
    "        x, y = x.to(device), y.to(device)\n",
    "\n",
    "        logits, loss = model(x, y)\n",
    "        optimizer.zero_grad(set_to_none=True)\n",
    "        loss.backward()\n",
    "        optimizer.step()\n",
    "\n",
    "        if batch_idx == config['train']['max_batches_per_epoch']:\n",
    "            break\n",
    "\n",
    "    "
   ]
  },
  {
   "cell_type": "code",
   "execution_count": 21,
   "metadata": {},
   "outputs": [],
   "source": [
    "save_model_and_config(model, config)"
   ]
  },
  {
   "cell_type": "code",
   "execution_count": 22,
   "metadata": {},
   "outputs": [
    {
     "name": "stdout",
     "output_type": "stream",
     "text": [
      "\n",
      "—fishmatic strider, {4}{r}{r}, creature — elemental warrior, trample as hunting strider enters the battlefield, you may search your library for an instant or sorcery card, reveal it, put it into your hand, then shuffle. {x}, {t}: target player mills x cards, where x is the sacrificed creature's power., power 3, toughness 3\n",
      "rortipling wind, {2}{g}, enchantment, constellation — whenever an enchantment enters the battlefield under your control, create a 1/1 colorless pirate creature token with no ign combat. (it can't be the target of spells or abilities your opponents control.), power nan, toughness nan\n",
      "yami, rewinder avenger, {4}{u}{u}, legendary creature — human wizard, whenever you cast an instant or sorcery spell, choose one —  return target enchantment you control to its owner's hand. then that player shuffles their library., power 7, toughness 6\n",
      "gorex shrieker, {5}, artifact creature — phyrexian construct, infect (this creature deals damage to creatures in the form of -1/-1 counters and to players in the form of poison counters.), power 3, toughness 3\n",
      "wall of rob brass, {1}{w}{u}, creature — human wizard, nan, power 3, toughness 3\n",
      "cliffrider, {3}, artifact creature — merfolk scout, whenever cliffrider enters the battlefield or another artifact enters the battlefield under your control, draw a card., power 2, toughness 2\n",
      "river ass, {2}{u}, enchantment — aura, enchant artifact you control {2} (at the beginning of your upkeep, put an age counter on this permanent, then sacrifice it unless you pay its up any time for its morph cost.), power nan, toughness nan\n",
      "balduvial crater, {2}{r}{w}, creature — human artificer, {t}, discard a card: balduvial crab deals damage equal to the number of artifacts they controlled and target instant or sorcery card in your graveyard., power 3, toughness 3\n",
      "ghoul's purisher, {r}, artifact creature — minotaur shaman, {r}, {t}, remove a +1/+1 counter from archangel's purisher: it deals 2 damage to any target., power 1, toughness 1\n",
      "heroicre\n"
     ]
    }
   ],
   "source": [
    "new_tokens = 2000\n",
    "context = torch.zeros((1, 1), dtype=torch.long, device=device)\n",
    "with torch.no_grad():\n",
    "    generated_tokens = m.generate(\n",
    "        context, \n",
    "        max_new_tokens=new_tokens \n",
    "        )[0].tolist()\n",
    "    print(decode(\n",
    "                map_int_to_char, \n",
    "                generated_tokens\n",
    "            ) \n",
    "        )"
   ]
  },
  {
   "cell_type": "code",
   "execution_count": 23,
   "metadata": {},
   "outputs": [],
   "source": [
    "new_tokens = 2000\n",
    "context = torch.zeros((1, 1), dtype=torch.long, device=device)\n",
    "generated_cards = ''\n",
    "for _ in range(10): \n",
    "    with torch.no_grad():\n",
    "        generated_tokens = m.generate(\n",
    "            context, \n",
    "            max_new_tokens=new_tokens \n",
    "            )[0].tolist()\n",
    "        new_cards = decode(map_int_to_char, generated_tokens) \n",
    "        generated_cards += '\\n'.join(new_cards.split('\\n')[:-1])\n",
    "                            "
   ]
  },
  {
   "cell_type": "code",
   "execution_count": 24,
   "metadata": {},
   "outputs": [],
   "source": [
    "with open('results/generated_cards.txt', 'w') as fh:\n",
    "    fh.write(generated_cards)"
   ]
  },
  {
   "cell_type": "code",
   "execution_count": null,
   "metadata": {},
   "outputs": [],
   "source": []
  }
 ],
 "metadata": {
  "kernelspec": {
   "display_name": "py37",
   "language": "python",
   "name": "python3"
  },
  "language_info": {
   "codemirror_mode": {
    "name": "ipython",
    "version": 3
   },
   "file_extension": ".py",
   "mimetype": "text/x-python",
   "name": "python",
   "nbconvert_exporter": "python",
   "pygments_lexer": "ipython3",
   "version": "3.7.9"
  },
  "orig_nbformat": 4
 },
 "nbformat": 4,
 "nbformat_minor": 2
}
